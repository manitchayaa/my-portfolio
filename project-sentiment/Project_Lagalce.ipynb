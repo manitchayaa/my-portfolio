{
  "nbformat": 4,
  "nbformat_minor": 0,
  "metadata": {
    "colab": {
      "provenance": []
    },
    "kernelspec": {
      "name": "python3",
      "display_name": "Python 3"
    },
    "language_info": {
      "name": "python"
    }
  },
  "cells": [
    {
      "cell_type": "code",
      "source": [
        "from google.colab import drive\n",
        "drive.mount('/content/drive')"
      ],
      "metadata": {
        "colab": {
          "base_uri": "https://localhost:8080/"
        },
        "id": "sx2min3SEtO6",
        "outputId": "9c6d6012-9a09-4f18-9819-d7ffb7fab964"
      },
      "execution_count": null,
      "outputs": [
        {
          "output_type": "stream",
          "name": "stdout",
          "text": [
            "Drive already mounted at /content/drive; to attempt to forcibly remount, call drive.mount(\"/content/drive\", force_remount=True).\n"
          ]
        }
      ]
    },
    {
      "cell_type": "code",
      "source": [
        "! pip install pythainlp"
      ],
      "metadata": {
        "colab": {
          "base_uri": "https://localhost:8080/"
        },
        "id": "qbviNmSpT-zD",
        "outputId": "7d85f13f-da5f-46f3-a46a-92938ce9c10e"
      },
      "execution_count": null,
      "outputs": [
        {
          "output_type": "stream",
          "name": "stdout",
          "text": [
            "Requirement already satisfied: pythainlp in /usr/local/lib/python3.10/dist-packages (4.0.2)\n",
            "Requirement already satisfied: requests>=2.22.0 in /usr/local/lib/python3.10/dist-packages (from pythainlp) (2.31.0)\n",
            "Requirement already satisfied: charset-normalizer<4,>=2 in /usr/local/lib/python3.10/dist-packages (from requests>=2.22.0->pythainlp) (3.3.0)\n",
            "Requirement already satisfied: idna<4,>=2.5 in /usr/local/lib/python3.10/dist-packages (from requests>=2.22.0->pythainlp) (3.4)\n",
            "Requirement already satisfied: urllib3<3,>=1.21.1 in /usr/local/lib/python3.10/dist-packages (from requests>=2.22.0->pythainlp) (2.0.6)\n",
            "Requirement already satisfied: certifi>=2017.4.17 in /usr/local/lib/python3.10/dist-packages (from requests>=2.22.0->pythainlp) (2023.7.22)\n"
          ]
        }
      ]
    },
    {
      "cell_type": "code",
      "source": [
        "import pandas as pd\n",
        "import numpy as np\n",
        "from pythainlp.tokenize import word_tokenize\n",
        "from sklearn.feature_extraction.text import CountVectorizer\n",
        "#from sklearn.feature_extraction import stop_words\n",
        "from sklearn.model_selection import train_test_split\n",
        "from sklearn.feature_extraction.text import TfidfVectorizer\n",
        "import matplotlib.pyplot as plt\n",
        "import re\n",
        "import itertools\n",
        "\n",
        "\n",
        "#For Neural Network\n",
        "from keras import models\n",
        "from keras.models import Sequential\n",
        "from keras import layers\n",
        "from keras.preprocessing.sequence import pad_sequences\n",
        "#from keras.utils.vis_utils import plot_model\n",
        "from keras.utils import pad_sequences"
      ],
      "metadata": {
        "id": "Tn5qTZmseCNs"
      },
      "execution_count": null,
      "outputs": []
    },
    {
      "cell_type": "code",
      "execution_count": null,
      "metadata": {
        "id": "kZUvYbIWcL6s",
        "colab": {
          "base_uri": "https://localhost:8080/"
        },
        "outputId": "cd75ec0b-ded0-4016-9c79-2aff1dd55f30"
      },
      "outputs": [
        {
          "output_type": "stream",
          "name": "stdout",
          "text": [
            "       class                                           sentence\n",
            "0   positive             เบบี้บลัชใช้ดีมาก ทาแล้วแก้มชมพูน่ารัก\n",
            "1   positive  เราชอบมาก น่ารักมาก ๆ เลยค่ะ หมดเมื่อไหร่กลับม...\n",
            "2   positive                                  เลิศเกิน สีสวยมาก\n",
            "3   positive  เห็นแพคเกจในคลิปรีวิวว่ากรี๊ดแล้ว เห็นของจริงย...\n",
            "4   positive  เอาจริง ๆ น้องใช้โคตรดี ดีแบบอึ้ง ว่าแล้วทำไมด...\n",
            "5   positive  แบรนด์นี้มาก ฮิตมาก เนื้อสัมผัสดี สีละมุนมาก ก...\n",
            "6   positive  แพ็คเก็จน่ารัก มินิมอลดี เนื้อคอนซิลเลอร์เนียน...\n",
            "7   positive  แพคเกจสวยมาก ๆ ปริมาณเพิ่มขึ้น ราคาเท่าเดิม ใช...\n",
            "8   positive  แพคเกจสวยมากชอบมาก หลังจากลองใช้ค่อนข้างปกปิดด...\n",
            "9   positive                             ใช้ดีมาก ซื้อซ้ำแน่นอน\n",
            "10  positive                                   ใช้ดีมาก สวยจึ้ง\n",
            "11  positive          กลิตเตอร์น่ารักมาก ๆ ค่ะ ประกายวิ้งวับมาก\n",
            "12  positive  กลิตเตอร์สวยจึ้งมาก เป็นกลิตเตอร์ที่แน่นสวยมากค่ะ\n",
            "13  positive                 คอนทัวร์แบรนด์นี้ติดดีสุด ๆ เลยค่ะ\n",
            "14  positive                                  คุณภาพคุ้มราคามาก\n",
            "15  positive  ชอบแบรนด์ลากลาสมาก ซื้อซ้ำหลายรอบสุด ๆ ซึ่งครั...\n",
            "16  positive                      ชอบบลัชฝุ่นมาก สีชมพูละมุนมาก\n",
            "17  positive                                             ดีมาก \n",
            "18  positive                            ดีมาก ทาแล้วน่ารักเวอร์\n",
            "19  positive  ดูรีวิวเยอะจนต้องซื้อ ของแบรนด์นี้ดีอยู่แล้วค่...\n"
          ]
        }
      ],
      "source": [
        "data = pd.read_csv(\"/content/drive/MyDrive/Colab Notebooks/data/sentiment_lagalce.csv\")\n",
        "print(data.head(20))"
      ]
    },
    {
      "cell_type": "code",
      "source": [
        "sentiment_mapping = {'positive': 2, 'neutral': 1, 'negative': 0}"
      ],
      "metadata": {
        "id": "Pk-NKnyxFQkb"
      },
      "execution_count": null,
      "outputs": []
    },
    {
      "cell_type": "code",
      "source": [
        "data['class'] = data['class'].replace(sentiment_mapping)"
      ],
      "metadata": {
        "id": "3u42H1OhezxJ"
      },
      "execution_count": null,
      "outputs": []
    },
    {
      "cell_type": "code",
      "source": [
        "print(data.head(20))"
      ],
      "metadata": {
        "colab": {
          "base_uri": "https://localhost:8080/"
        },
        "id": "VBP58FkLFeMT",
        "outputId": "10733716-421a-4114-a12f-dce8e083e621"
      },
      "execution_count": null,
      "outputs": [
        {
          "output_type": "stream",
          "name": "stdout",
          "text": [
            "    class                                           sentence\n",
            "0       2             เบบี้บลัชใช้ดีมาก ทาแล้วแก้มชมพูน่ารัก\n",
            "1       2  เราชอบมาก น่ารักมาก ๆ เลยค่ะ หมดเมื่อไหร่กลับม...\n",
            "2       2                                  เลิศเกิน สีสวยมาก\n",
            "3       2  เห็นแพคเกจในคลิปรีวิวว่ากรี๊ดแล้ว เห็นของจริงย...\n",
            "4       2  เอาจริง ๆ น้องใช้โคตรดี ดีแบบอึ้ง ว่าแล้วทำไมด...\n",
            "5       2  แบรนด์นี้มาก ฮิตมาก เนื้อสัมผัสดี สีละมุนมาก ก...\n",
            "6       2  แพ็คเก็จน่ารัก มินิมอลดี เนื้อคอนซิลเลอร์เนียน...\n",
            "7       2  แพคเกจสวยมาก ๆ ปริมาณเพิ่มขึ้น ราคาเท่าเดิม ใช...\n",
            "8       2  แพคเกจสวยมากชอบมาก หลังจากลองใช้ค่อนข้างปกปิดด...\n",
            "9       2                             ใช้ดีมาก ซื้อซ้ำแน่นอน\n",
            "10      2                                   ใช้ดีมาก สวยจึ้ง\n",
            "11      2          กลิตเตอร์น่ารักมาก ๆ ค่ะ ประกายวิ้งวับมาก\n",
            "12      2  กลิตเตอร์สวยจึ้งมาก เป็นกลิตเตอร์ที่แน่นสวยมากค่ะ\n",
            "13      2                 คอนทัวร์แบรนด์นี้ติดดีสุด ๆ เลยค่ะ\n",
            "14      2                                  คุณภาพคุ้มราคามาก\n",
            "15      2  ชอบแบรนด์ลากลาสมาก ซื้อซ้ำหลายรอบสุด ๆ ซึ่งครั...\n",
            "16      2                      ชอบบลัชฝุ่นมาก สีชมพูละมุนมาก\n",
            "17      2                                             ดีมาก \n",
            "18      2                            ดีมาก ทาแล้วน่ารักเวอร์\n",
            "19      2  ดูรีวิวเยอะจนต้องซื้อ ของแบรนด์นี้ดีอยู่แล้วค่...\n"
          ]
        }
      ]
    },
    {
      "cell_type": "code",
      "source": [
        "sentence = data['sentence'].astype(str)\n",
        "y = data['class'].values"
      ],
      "metadata": {
        "id": "hjCblaXEOgj9"
      },
      "execution_count": null,
      "outputs": []
    },
    {
      "cell_type": "code",
      "source": [
        "X_tokenized = sentence.apply(word_tokenize, keep_whitespace=False)\n",
        "print(X_tokenized)"
      ],
      "metadata": {
        "colab": {
          "base_uri": "https://localhost:8080/"
        },
        "id": "rUE9O3TiTr6n",
        "outputId": "d014beb4-1c4c-463d-9ee8-5d1072aea1f4"
      },
      "execution_count": null,
      "outputs": [
        {
          "output_type": "stream",
          "name": "stdout",
          "text": [
            "0      [เบบี้, บลัช, ใช้, ดีมาก, ทา, แล้ว, แก้ม, ชมพู...\n",
            "1      [เรา, ชอบ, มาก, น่ารัก, มาก, ๆ, เลย, ค่ะ, หมด,...\n",
            "2                             [เลิศ, เกิน, สี, สวย, มาก]\n",
            "3      [เห็น, แพคเกจ, ใน, คลิป, รีวิว, ว่า, กรี๊ด, แล...\n",
            "4      [เอา, จริง ๆ, น้อง, ใช้, โคตร, ดี, ดี, แบบ, อึ...\n",
            "                             ...                        \n",
            "146    [สินค้า, ไม่, ติด, ทน, เหมือน, ที่แจ้ง, ไว้, ส...\n",
            "147    [สินค้า, ของ, ข้างใน, ดี, ทุกอย่าง, ยกเว้น, ขน...\n",
            "148              [สี, ไม่, เหมือน, ที่, รีวิว, เท่าไหร่]\n",
            "149               [ห่วย, มาก, ทาง, ร้าน, บริการ, แย่มาก]\n",
            "150    [อาย, ไลเนอร์, แห้ง, เพิ่ง, ใช้, ไม่, กี่, ครั...\n",
            "Name: sentence, Length: 151, dtype: object\n"
          ]
        }
      ]
    },
    {
      "cell_type": "code",
      "source": [
        "#train test spit\n",
        "sentence_train, sentence_test, y_train, y_test = train_test_split(X_tokenized, y, test_size=0.20, random_state=100)"
      ],
      "metadata": {
        "id": "9KuuSdGiU7XG"
      },
      "execution_count": null,
      "outputs": []
    },
    {
      "cell_type": "code",
      "source": [
        "from keras.preprocessing.text import Tokenizer\n",
        "tokenizer = Tokenizer()\n",
        "tokenizer.fit_on_texts(sentence_train)\n",
        "tokenizer.word_index"
      ],
      "metadata": {
        "id": "o3YAVgsJVVsz"
      },
      "execution_count": null,
      "outputs": []
    },
    {
      "cell_type": "code",
      "source": [
        "X_train = tokenizer.texts_to_sequences(sentence_train)\n",
        "X_test = tokenizer.texts_to_sequences(sentence_test)"
      ],
      "metadata": {
        "id": "aH7Cxd5oVX0o"
      },
      "execution_count": null,
      "outputs": []
    },
    {
      "cell_type": "code",
      "source": [
        "vocab_size = len(tokenizer.word_index) + 1\n",
        "print(vocab_size)"
      ],
      "metadata": {
        "colab": {
          "base_uri": "https://localhost:8080/"
        },
        "id": "GEKVy4yhVZj1",
        "outputId": "55431c3e-c456-4882-b2a1-fd4841db7122"
      },
      "execution_count": null,
      "outputs": [
        {
          "output_type": "stream",
          "name": "stdout",
          "text": [
            "444\n"
          ]
        }
      ]
    },
    {
      "cell_type": "code",
      "source": [
        "print(sentence_train[0])"
      ],
      "metadata": {
        "colab": {
          "base_uri": "https://localhost:8080/"
        },
        "id": "0gz9hlyEdAJR",
        "outputId": "ddaf788c-a832-4ce0-f195-f708e8405cd2"
      },
      "execution_count": null,
      "outputs": [
        {
          "output_type": "stream",
          "name": "stdout",
          "text": [
            "['เบบี้', 'บลัช', 'ใช้', 'ดีมาก', 'ทา', 'แล้ว', 'แก้ม', 'ชมพู', 'น่ารัก']\n"
          ]
        }
      ]
    },
    {
      "cell_type": "code",
      "source": [
        "print(X_train[0])"
      ],
      "metadata": {
        "colab": {
          "base_uri": "https://localhost:8080/"
        },
        "id": "EPoHHKiBePM1",
        "outputId": "a93a6bb0-2ccb-4a25-b01f-9614430b7917"
      },
      "execution_count": null,
      "outputs": [
        {
          "output_type": "stream",
          "name": "stdout",
          "text": [
            "[58, 67, 35, 83, 3, 59, 109, 68]\n"
          ]
        }
      ]
    },
    {
      "cell_type": "code",
      "source": [
        "#ทำข้อความเท่ากัน ละเช็คความยาวจร๊\n",
        "from keras.utils import to_categorical\n",
        "print(\"Raw Texts to Sequence : \")\n",
        "for s in X_train: print(s)\n",
        "maxlen = max([len(s) for s in X_train])\n",
        "print(\"Max sentence length = \",maxlen)\n",
        "x = pad_sequences(X_train, maxlen=maxlen, padding=\"post\")\n",
        "print(\"Sequence Padding at maxlen words, post padding : \\n\",x)"
      ],
      "metadata": {
        "colab": {
          "base_uri": "https://localhost:8080/"
        },
        "id": "iTt5kIQDl4HL",
        "outputId": "c6a6cd57-a9a3-4a86-db27-a15fed5b7ff8"
      },
      "execution_count": null,
      "outputs": [
        {
          "output_type": "stream",
          "name": "stdout",
          "text": [
            "Raw Texts to Sequence : \n",
            "[58, 67, 35, 83, 3, 59, 109, 68]\n",
            "[16, 18, 60, 69, 27, 145, 28, 8]\n",
            "[45, 46, 47, 7, 110, 1, 27, 45, 46, 47, 13, 146, 7, 1, 4]\n",
            "[32, 19, 236, 1, 147, 148, 1]\n",
            "[26, 19, 69, 36, 149, 61, 1, 84, 3, 7, 1, 237]\n",
            "[3, 7, 1, 48, 28]\n",
            "[150, 151, 23, 32, 238, 5, 84, 20, 152, 62]\n",
            "[17, 153, 16, 18, 60, 2, 11, 24, 6, 70, 85, 239, 86, 240, 1, 241, 4]\n",
            "[2, 111, 154, 5, 14, 39, 242, 155, 68, 12, 243, 156, 244, 245, 63, 40, 112, 157, 49, 4]\n",
            "[37, 87, 64, 1, 113, 158, 37, 40, 114, 6, 29, 1, 8, 88, 71, 115, 40, 116, 159, 246, 29, 1, 8, 89, 21, 7, 1, 8, 247, 29, 39, 117, 248, 5]\n",
            "[160, 62, 118, 50, 16, 18, 60, 23, 24, 41, 84, 119, 14, 249, 120, 86, 114, 68, 21, 6, 4]\n",
            "[38, 250, 90, 91, 51, 92, 33, 161, 20, 6, 93, 42, 40, 20, 121, 162, 251, 8, 4, 2, 11, 122, 2, 42, 163]\n",
            "[2, 11, 27, 65, 13, 90, 164, 118, 50, 252, 7, 165, 34, 52, 253, 34, 23, 166, 41]\n",
            "[7, 3, 7, 1, 167, 28, 32, 1]\n",
            "[72, 168, 29, 254, 255, 256, 6, 26, 16, 18, 73, 257, 258, 24, 6, 87, 123, 1]\n",
            "[169, 29, 1, 72, 56, 259, 28, 8]\n",
            "[170, 1, 72, 168, 7, 260, 1, 26, 261, 262, 22, 171, 28, 8, 3, 7, 263, 35, 71, 115, 88, 43, 124, 264, 53, 172, 173, 5]\n",
            "[37, 12, 174, 94, 59, 265, 175, 266, 19, 58, 67, 267, 34, 4]\n",
            "[20, 22, 42, 163, 125]\n",
            "[95, 96, 57, 66, 64, 1]\n",
            "[30, 3, 34, 21, 126, 48, 1, 14, 54, 26, 127, 176]\n",
            "[268, 177, 269, 270, 271, 178, 27, 19, 26, 272, 13, 273, 179, 5]\n",
            "[180, 2, 6]\n",
            "[42, 181, 12, 274, 5, 128, 182, 275, 36, 49]\n",
            "[31, 183, 2, 11, 122, 65, 59, 276, 4]\n",
            "[23, 24, 41, 2, 277, 184, 185]\n",
            "[58, 67, 97, 54, 9, 36, 44, 278, 39]\n",
            "[186, 74, 4]\n",
            "[2, 129, 37, 279, 280, 161, 98, 43, 281, 12, 2, 11, 43, 40, 49, 1, 4]\n",
            "[187, 2, 188, 189, 12, 2, 6, 91]\n",
            "[95, 53, 87, 123, 1, 8, 4, 75, 58, 282, 283, 97, 54, 1, 8, 5, 4]\n",
            "[31, 11, 99, 13, 76, 1, 4, 2, 190, 55, 284, 285, 286, 39, 5]\n",
            "[16, 18, 287, 77]\n",
            "[128, 182, 27, 156, 57, 40, 43, 288, 11, 289, 191, 43, 95, 96, 290, 37, 291, 57, 62, 74]\n",
            "[17, 176, 190, 1]\n",
            "[37, 292, 111, 35, 78, 1, 4, 92, 293, 12, 29, 1, 4, 32, 1, 1, 5, 100, 72, 66, 55, 186, 22, 98, 192, 116, 125, 4]\n",
            "[101, 20, 58, 67, 10, 193, 294, 295, 194, 39, 117, 31, 2, 32, 5, 57, 195, 196, 39, 10, 296, 297, 175, 12, 130, 2, 298, 299, 49, 1]\n",
            "[53, 34, 1, 179, 1, 26, 127, 6, 3, 148, 1, 100, 113, 158, 37, 6, 300, 64, 71, 115, 22, 29, 301, 302]\n",
            "[57, 123, 1, 56, 1]\n",
            "[37, 35, 131, 65, 303, 26, 127, 304, 30, 5, 93, 38, 14, 197, 3, 98, 305, 306, 8, 27, 3, 13, 307, 1, 8, 32, 4]\n",
            "[38, 308, 309, 79, 20, 53, 34, 33, 310, 8, 35, 198, 37, 13, 6, 52, 2, 6]\n",
            "[132, 102, 16, 18, 133, 74, 311, 134]\n",
            "[30, 14, 10, 31, 2, 312, 313, 4, 23, 199, 38]\n",
            "[71, 314, 17, 12, 200, 80, 103, 78, 12, 65, 71, 315, 8, 316, 317]\n",
            "[20, 22, 7, 110]\n",
            "[30, 131]\n",
            "[16, 18, 73, 3, 318, 319, 320, 3, 321, 2, 322, 2, 201, 135, 91, 2, 202, 2, 104, 77]\n",
            "[51, 89, 59, 323, 33, 50, 203, 10, 51, 324, 325, 203, 5, 7, 29, 1, 8, 10, 75, 3, 21, 22, 8, 4, 326, 43, 27, 19, 172, 173, 5]\n",
            "[19, 14, 10, 204, 48, 22, 8, 4, 136, 205, 6, 5, 9, 31, 2, 32, 3, 41, 36, 44]\n",
            "[129, 45, 46, 47, 10, 327, 35, 43, 20, 83, 328]\n",
            "[206, 16, 18, 133, 329, 1, 119, 330, 55, 17]\n",
            "[331, 19, 20, 22, 14, 10, 204, 207, 29]\n",
            "[19, 3, 7, 6, 9, 23, 15, 25, 63, 112, 105, 106]\n",
            "[57, 64, 6, 3, 12, 7, 6, 5, 62, 32, 9, 137, 332, 31, 3, 23, 15, 41, 208, 64, 1, 93, 209, 94, 8, 107, 27, 333, 13, 126, 194, 4]\n",
            "[96, 57, 64, 72, 40, 6, 30, 3, 7, 9, 44, 2, 15, 25, 41, 4]\n",
            "[97, 54, 3, 138, 334, 3, 9, 160, 191, 43, 210, 201, 165, 34, 335, 10, 211, 4]\n",
            "[16, 18, 133, 24, 212, 2, 188, 52, 12, 2, 11, 111, 154, 6, 70, 85]\n",
            "[3, 7, 1, 4, 9, 2, 213, 15, 25, 15, 25, 336, 8]\n",
            "[49, 16, 18, 60, 26, 337, 2, 24, 214, 5]\n",
            "[2, 15, 25, 52, 2, 48, 338, 65, 13, 195, 196, 164]\n",
            "[16, 339, 53, 34, 15, 6, 28, 8, 5, 4]\n",
            "[78, 37, 93, 340, 11, 341, 55, 17, 139, 140, 39, 215]\n",
            "[22]\n",
            "[19, 21, 3, 29, 1, 9, 23, 15, 25, 63, 112, 105, 106]\n",
            "[180, 2, 342, 55, 17]\n",
            "[30, 2, 15, 25, 5, 108, 54, 1]\n",
            "[69, 2, 11, 122, 70, 85, 33, 80, 343, 1]\n",
            "[100, 24, 6, 103, 9, 12, 2, 70, 85, 38, 31, 50, 130, 24, 11, 2, 6, 41]\n",
            "[22, 14, 10, 29, 344]\n",
            "[3, 7, 56, 2, 345, 346, 53, 34, 40, 94, 1, 16, 18, 73, 22, 132, 102, 21, 6, 28]\n",
            "[7, 1, 198, 3, 52, 113, 347, 102]\n",
            "[216, 66, 348, 349, 21, 81, 28]\n",
            "[16, 18, 350, 75, 217, 1]\n",
            "[3, 7, 1, 35, 141, 171, 141, 48]\n",
            "[167, 1, 8]\n",
            "[20, 16, 18, 60, 10, 31, 104, 77, 9, 24, 120, 86, 6, 5, 4, 63, 351, 352, 218, 75, 353, 354, 159]\n",
            "[19, 14, 10, 205, 22, 26, 48, 9, 2, 149, 61, 170, 1, 192, 157, 125]\n",
            "[31, 99, 13, 11, 55, 17, 21, 2, 81, 1, 8, 11, 76, 135, 2, 35, 141, 355, 219, 26, 16, 356, 60, 5, 56, 76, 1]\n",
            "[45, 46, 47, 35, 83, 357, 109, 68]\n",
            "[30, 2, 358, 359, 2, 48, 5, 360, 36, 49, 361, 82, 362, 216, 181]\n",
            "[136, 33, 142, 135, 63, 42, 66, 53, 34, 6, 363, 4, 364, 82, 365, 19, 220, 40, 78, 366, 80, 17, 1, 8]\n",
            "[30, 2, 15, 25]\n",
            "[367, 368, 42, 166, 43, 42, 53, 369, 370, 4, 2, 371, 372, 373, 5, 27, 145, 104, 77, 218, 75, 12, 217, 74, 8]\n",
            "[374, 80, 3, 7, 1]\n",
            "[24, 6, 209, 375, 9, 23, 199, 143, 376]\n",
            "[377, 17, 12, 139, 140, 88, 11, 99, 13, 76, 31, 23, 81]\n",
            "[69, 183]\n",
            "[33, 378, 1, 9, 14, 379, 36, 49, 4, 23, 48, 380, 381, 382, 5]\n",
            "[45, 46, 47, 15, 383, 103, 9, 23, 32, 82, 384, 144, 1, 52, 45, 46, 47, 197, 142, 80, 20, 221, 63, 385, 28]\n",
            "[100, 24, 212, 4, 14, 120, 86, 10, 36, 104, 77, 9, 26, 222, 54, 4]\n",
            "[3, 7, 1, 14, 30, 10, 386, 38, 28, 8]\n",
            "[3, 387, 155, 223, 3, 138, 146, 1, 388, 3, 126, 389]\n",
            "[89, 7, 1, 8, 99, 390, 17, 391, 174, 94, 392, 116]\n",
            "[3, 2, 65, 13, 33, 41]\n",
            "[45, 46, 47, 223, 144, 393, 1, 7, 5, 187, 9, 36, 44, 224, 82, 17, 394, 1]\n",
            "[225, 38, 3, 7, 1, 4, 9, 2, 15, 25, 5]\n",
            "[137, 121, 395, 20, 396, 6, 6, 56, 397, 398, 399, 400, 1, 226, 79, 401, 5, 16, 18, 73]\n",
            "[27, 3, 56, 13, 2, 32, 5, 51, 33, 136, 3, 7, 9, 226, 121, 21, 107, 2, 402, 207, 403, 210, 114, 13, 90, 44, 13, 90, 39]\n",
            "[14, 10, 202, 162, 2, 11, 24, 404]\n",
            "[11, 76, 2, 405, 144, 227, 206]\n",
            "[19, 220, 132, 102, 101, 134, 1, 101, 221, 406, 98, 407, 19, 10, 4]\n",
            "[408, 409, 184, 185, 6, 5, 9, 17, 139, 140]\n",
            "[3, 30, 410, 27, 411, 8, 3, 7, 6, 5, 13, 51, 59, 33, 84, 38, 14, 10, 2, 412, 36, 44]\n",
            "[129, 66, 10, 62, 66, 211, 1, 9, 87, 28, 8]\n",
            "[45, 46, 47, 228, 21, 35, 83, 3, 59, 109, 68, 229, 21, 2, 15, 25, 5, 27, 92, 413, 107, 414, 230, 10, 108, 117, 5]\n",
            "[69, 61, 193, 105, 106, 1]\n",
            "[415, 1, 95, 96, 416, 74]\n",
            "[417, 418, 22]\n",
            "[78, 81, 17, 1]\n",
            "[419, 6, 62, 420, 17, 36, 200, 91, 225, 38]\n",
            "[51, 92, 33, 50, 421, 142, 150, 151, 118, 50, 213, 18, 73, 26, 422, 6, 9, 23, 24]\n",
            "[58, 67, 423, 208, 54, 52, 15, 25]\n",
            "[3, 30, 7, 6, 9, 231, 49, 82, 51, 33, 22]\n",
            "[424, 232, 50, 233, 9, 79, 97, 13, 425, 137, 426, 427, 10, 230, 8, 12, 108, 189, 130, 2, 81, 55, 17, 17, 153, 88, 2, 233, 124]\n",
            "[19, 3, 7, 428, 23, 138, 41]\n",
            "[30, 3, 7, 103, 9, 2, 15, 25]\n",
            "[44, 13, 2, 15, 25, 227, 429, 3, 12, 108, 10, 4, 234, 42, 51, 430, 232, 50, 15, 25, 219, 431, 42, 432, 31, 44, 224, 1]\n",
            "[228, 177, 433, 178, 21, 131, 1, 14, 10, 147, 434, 28, 8, 229, 21, 31, 14, 10, 61, 107, 39, 215, 435, 61, 52, 44, 55, 436, 128, 19, 101, 134, 1]\n",
            "[169, 29, 1]\n",
            "[89, 7, 1, 32, 1, 437, 79, 20, 231, 24, 6, 26, 222, 54, 1, 12, 21, 22, 438, 79, 20, 38, 2, 11, 235, 143, 214, 124, 439, 234, 61, 440, 105, 106, 5, 14, 441, 56, 2, 11, 442, 9, 20, 152, 70, 34, 119, 235, 143, 443, 12, 21, 110, 5]\n",
            "Max sentence length =  54\n",
            "Sequence Padding at maxlen words, post padding : \n",
            " [[ 58  67  35 ...   0   0   0]\n",
            " [ 16  18  60 ...   0   0   0]\n",
            " [ 45  46  47 ...   0   0   0]\n",
            " ...\n",
            " [228 177 433 ...   0   0   0]\n",
            " [169  29   1 ...   0   0   0]\n",
            " [ 89   7   1 ...  21 110   5]]\n"
          ]
        }
      ]
    },
    {
      "cell_type": "code",
      "source": [
        "#Word Embedding\n",
        "from keras.models import Sequential\n",
        "from keras.layers import Embedding , Dense ,Flatten\n",
        "from sklearn.metrics import confusion_matrix\n",
        "import matplotlib.pyplot as plt\n",
        "\n",
        "embedding_dim = 128\n",
        "model = Sequential()\n",
        "model.add(Embedding(input_dim=vocab_size,\n",
        "                    input_length=maxlen,\n",
        "                    output_dim=embedding_dim\n",
        "                           ))\n",
        "model.add(Flatten())\n",
        "model.add(Dense(128, activation='relu'))\n",
        "model.add(Dense(1, activation='sigmoid'))\n",
        "\n",
        "model.compile(optimizer='adam',\n",
        "              loss='categorical_crossentropy',\n",
        "              metrics=['accuracy'])\n",
        "model.summary()"
      ],
      "metadata": {
        "colab": {
          "base_uri": "https://localhost:8080/"
        },
        "id": "sWBV_Jvxl_J1",
        "outputId": "178671cd-12c7-4629-912a-0dd162c3fd59"
      },
      "execution_count": null,
      "outputs": [
        {
          "output_type": "stream",
          "name": "stdout",
          "text": [
            "Model: \"sequential_19\"\n",
            "_________________________________________________________________\n",
            " Layer (type)                Output Shape              Param #   \n",
            "=================================================================\n",
            " embedding_19 (Embedding)    (None, 54, 128)           56832     \n",
            "                                                                 \n",
            " flatten_18 (Flatten)        (None, 6912)              0         \n",
            "                                                                 \n",
            " dense_39 (Dense)            (None, 128)               884864    \n",
            "                                                                 \n",
            " dense_40 (Dense)            (None, 1)                 129       \n",
            "                                                                 \n",
            "=================================================================\n",
            "Total params: 941825 (3.59 MB)\n",
            "Trainable params: 941825 (3.59 MB)\n",
            "Non-trainable params: 0 (0.00 Byte)\n",
            "_________________________________________________________________\n"
          ]
        }
      ]
    },
    {
      "cell_type": "code",
      "source": [
        "model.fit(x,y_train,epochs=10)"
      ],
      "metadata": {
        "colab": {
          "base_uri": "https://localhost:8080/"
        },
        "id": "xAjtZshTn5ih",
        "outputId": "0892d567-a88f-4dc4-a41f-e3054fc59089"
      },
      "execution_count": null,
      "outputs": [
        {
          "output_type": "stream",
          "name": "stdout",
          "text": [
            "Epoch 1/10\n",
            "4/4 [==============================] - 1s 21ms/step - loss: 0.0000e+00 - accuracy: 0.3417\n",
            "Epoch 2/10\n",
            "4/4 [==============================] - 0s 17ms/step - loss: 0.0000e+00 - accuracy: 0.3583\n",
            "Epoch 3/10\n",
            "4/4 [==============================] - 0s 16ms/step - loss: 0.0000e+00 - accuracy: 0.4417\n",
            "Epoch 4/10\n",
            "4/4 [==============================] - 0s 15ms/step - loss: 0.0000e+00 - accuracy: 0.4917\n",
            "Epoch 5/10\n",
            "4/4 [==============================] - 0s 14ms/step - loss: 0.0000e+00 - accuracy: 0.4833\n",
            "Epoch 6/10\n",
            "4/4 [==============================] - 0s 14ms/step - loss: 0.0000e+00 - accuracy: 0.5000\n",
            "Epoch 7/10\n",
            "4/4 [==============================] - 0s 15ms/step - loss: 0.0000e+00 - accuracy: 0.5250\n",
            "Epoch 8/10\n",
            "4/4 [==============================] - 0s 13ms/step - loss: 0.0000e+00 - accuracy: 0.5250\n",
            "Epoch 9/10\n",
            "4/4 [==============================] - 0s 14ms/step - loss: 0.0000e+00 - accuracy: 0.5167\n",
            "Epoch 10/10\n",
            "4/4 [==============================] - 0s 14ms/step - loss: 0.0000e+00 - accuracy: 0.5250\n"
          ]
        },
        {
          "output_type": "execute_result",
          "data": {
            "text/plain": [
              "<keras.src.callbacks.History at 0x7e78e00bd240>"
            ]
          },
          "metadata": {},
          "execution_count": 134
        }
      ]
    },
    {
      "cell_type": "code",
      "source": [],
      "metadata": {
        "id": "B6O5hH5Gr5d2"
      },
      "execution_count": null,
      "outputs": []
    },
    {
      "cell_type": "code",
      "source": [
        "from keras.models import Sequential\n",
        "from keras.layers import Embedding,Bidirectional,Dense,LSTM\n",
        "embedding_dim = 128\n",
        "model = Sequential()\n",
        "model.add(Embedding(input_dim=vocab_size,\n",
        "                    input_length=maxlen,\n",
        "                    output_dim=embedding_dim\n",
        "                           ))\n",
        "model.add(Bidirectional(LSTM(128)))\n",
        "model.add(Dense(1,activation='sigmoid'))\n",
        "model.compile(loss='categorical_crossentropy', optimizer='adam',metrics=['accuracy'])\n",
        "\n",
        "model.summary()"
      ],
      "metadata": {
        "colab": {
          "base_uri": "https://localhost:8080/"
        },
        "id": "5kCdjvHJqMYi",
        "outputId": "c7dfe42e-ce12-427a-c171-6a6cc6e00f0d"
      },
      "execution_count": null,
      "outputs": [
        {
          "output_type": "stream",
          "name": "stdout",
          "text": [
            "Model: \"sequential_11\"\n",
            "_________________________________________________________________\n",
            " Layer (type)                Output Shape              Param #   \n",
            "=================================================================\n",
            " embedding_11 (Embedding)    (None, 54, 128)           56832     \n",
            "                                                                 \n",
            " bidirectional (Bidirection  (None, 256)               263168    \n",
            " al)                                                             \n",
            "                                                                 \n",
            " dense_24 (Dense)            (None, 1)                 257       \n",
            "                                                                 \n",
            "=================================================================\n",
            "Total params: 320257 (1.22 MB)\n",
            "Trainable params: 320257 (1.22 MB)\n",
            "Non-trainable params: 0 (0.00 Byte)\n",
            "_________________________________________________________________\n"
          ]
        }
      ]
    },
    {
      "cell_type": "code",
      "source": [
        "model.fit(x,y_train,\n",
        "          epochs=20)"
      ],
      "metadata": {
        "colab": {
          "base_uri": "https://localhost:8080/"
        },
        "id": "kV41T2WtqQXB",
        "outputId": "135cfedf-8b18-4a59-b3f0-bb9f0a3a4eb4"
      },
      "execution_count": null,
      "outputs": [
        {
          "output_type": "stream",
          "name": "stdout",
          "text": [
            "Epoch 1/20\n",
            "4/4 [==============================] - 0s 51ms/step - loss: 0.0000e+00 - accuracy: 0.5250\n",
            "Epoch 2/20\n",
            "4/4 [==============================] - 0s 63ms/step - loss: 0.0000e+00 - accuracy: 0.5250\n",
            "Epoch 3/20\n",
            "4/4 [==============================] - 0s 69ms/step - loss: 0.0000e+00 - accuracy: 0.5167\n",
            "Epoch 4/20\n",
            "4/4 [==============================] - 0s 64ms/step - loss: 0.0000e+00 - accuracy: 0.5250\n",
            "Epoch 5/20\n",
            "4/4 [==============================] - 0s 50ms/step - loss: 0.0000e+00 - accuracy: 0.5250\n",
            "Epoch 6/20\n",
            "4/4 [==============================] - 0s 57ms/step - loss: 0.0000e+00 - accuracy: 0.5333\n",
            "Epoch 7/20\n",
            "4/4 [==============================] - 0s 63ms/step - loss: 0.0000e+00 - accuracy: 0.5250\n",
            "Epoch 8/20\n",
            "4/4 [==============================] - 0s 36ms/step - loss: 0.0000e+00 - accuracy: 0.5250\n",
            "Epoch 9/20\n",
            "4/4 [==============================] - 0s 51ms/step - loss: 0.0000e+00 - accuracy: 0.5250\n",
            "Epoch 10/20\n",
            "4/4 [==============================] - 0s 34ms/step - loss: 0.0000e+00 - accuracy: 0.5250\n",
            "Epoch 11/20\n",
            "4/4 [==============================] - 0s 50ms/step - loss: 0.0000e+00 - accuracy: 0.5250\n",
            "Epoch 12/20\n",
            "4/4 [==============================] - 0s 35ms/step - loss: 0.0000e+00 - accuracy: 0.5333\n",
            "Epoch 13/20\n",
            "4/4 [==============================] - 0s 31ms/step - loss: 0.0000e+00 - accuracy: 0.5333\n",
            "Epoch 14/20\n",
            "4/4 [==============================] - 0s 38ms/step - loss: 0.0000e+00 - accuracy: 0.5333\n",
            "Epoch 15/20\n",
            "4/4 [==============================] - 0s 30ms/step - loss: 0.0000e+00 - accuracy: 0.5167\n",
            "Epoch 16/20\n",
            "4/4 [==============================] - 0s 32ms/step - loss: 0.0000e+00 - accuracy: 0.5333\n",
            "Epoch 17/20\n",
            "4/4 [==============================] - 0s 21ms/step - loss: 0.0000e+00 - accuracy: 0.5333\n",
            "Epoch 18/20\n",
            "4/4 [==============================] - 0s 27ms/step - loss: 0.0000e+00 - accuracy: 0.5333\n",
            "Epoch 19/20\n",
            "4/4 [==============================] - 0s 29ms/step - loss: 0.0000e+00 - accuracy: 0.5333\n",
            "Epoch 20/20\n",
            "4/4 [==============================] - 0s 31ms/step - loss: 0.0000e+00 - accuracy: 0.5333\n"
          ]
        },
        {
          "output_type": "execute_result",
          "data": {
            "text/plain": [
              "<keras.src.callbacks.History at 0x7e78e03775e0>"
            ]
          },
          "metadata": {},
          "execution_count": 135
        }
      ]
    }
  ]
}